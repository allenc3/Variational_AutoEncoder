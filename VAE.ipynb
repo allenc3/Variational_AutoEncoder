{
  "nbformat": 4,
  "nbformat_minor": 0,
  "metadata": {
    "colab": {
      "name": "VAE.ipynb",
      "version": "0.3.2",
      "provenance": [],
      "collapsed_sections": [],
      "include_colab_link": true
    },
    "kernelspec": {
      "name": "python3",
      "display_name": "Python 3"
    },
    "accelerator": "TPU"
  },
  "cells": [
    {
      "cell_type": "markdown",
      "metadata": {
        "id": "view-in-github",
        "colab_type": "text"
      },
      "source": [
        "<a href=\"https://colab.research.google.com/github/allenc3/Variational_AutoEncoder/blob/master/VAE.ipynb\" target=\"_parent\"><img src=\"https://colab.research.google.com/assets/colab-badge.svg\" alt=\"Open In Colab\"/></a>"
      ]
    },
    {
      "metadata": {
        "id": "4tPBBVV1uMW1",
        "colab_type": "code",
        "colab": {}
      },
      "cell_type": "code",
      "source": [
        "# Load the Drive helper and mount\n",
        "from google.colab import drive\n",
        "\n",
        "# This will prompt for authorization.\n",
        "drive.mount('/content/drive', force_remount=True)"
      ],
      "execution_count": 0,
      "outputs": []
    },
    {
      "metadata": {
        "id": "UgTUZyQbuPkL",
        "colab_type": "code",
        "colab": {}
      },
      "cell_type": "code",
      "source": [
        "!pip install imageio\n",
        "import numpy as np\n",
        "import matplotlib.pyplot as plt\n",
        "from PIL import Image\n",
        "import glob\n",
        "from tensorflow.contrib.slim import fully_connected as fc\n",
        "import tensorflow as tf\n",
        "from scipy import misc\n",
        "import imageio\n",
        "import os"
      ],
      "execution_count": 0,
      "outputs": []
    },
    {
      "metadata": {
        "id": "0b9TzBC471tB",
        "colab_type": "code",
        "colab": {}
      },
      "cell_type": "code",
      "source": [
        "image_file_list = []\n",
        "for image_path in glob.glob(\"/content/drive/My Drive/ResearchDatav2/*.png\"):\n",
        "    image_file_list.append(image_path)"
      ],
      "execution_count": 0,
      "outputs": []
    },
    {
      "metadata": {
        "id": "ENGRRnxe725h",
        "colab_type": "code",
        "outputId": "5d530f05-730e-43be-9af2-b22d5a74ba8c",
        "colab": {
          "base_uri": "https://localhost:8080/",
          "height": 34
        }
      },
      "cell_type": "code",
      "source": [
        "import pandas as pd\n",
        "df = pd.read_csv('/content/drive/My Drive/Data_Entry_2017.csv', delimiter = ',')\n",
        "\n",
        "imagelist = []\n",
        "num_samples = 0\n",
        "for i in df.index:\n",
        "    if (df[\"View Position\"][i] == \"PA\"):\n",
        "        file_name = \"/content/drive/My Drive/ResearchDatav2/\" + df[\"Image Index\"][i]\n",
        "        if (file_name in image_file_list):\n",
        "            imagelist.append(file_name)\n",
        "\n",
        "num_samples = len(imagelist)\n",
        "print(\"Samples:\", num_samples)"
      ],
      "execution_count": 0,
      "outputs": [
        {
          "output_type": "stream",
          "text": [
            "Samples: 5725\n"
          ],
          "name": "stdout"
        }
      ]
    },
    {
      "metadata": {
        "id": "nWxmrDc574eE",
        "colab_type": "code",
        "colab": {}
      },
      "cell_type": "code",
      "source": [
        "# might need to add test images here\n",
        "from random import shuffle\n",
        "\n",
        "test_sample_size = 2000\n",
        "valid_sample_size = 200\n",
        "# test_sample_size = 200\n",
        "\n",
        "shuffle(imagelist)\n",
        "\n",
        "proper_shape = (64,64)\n",
        "num_samples = test_sample_size\n",
        "\n",
        "total_set = []\n",
        "total_file = []\n",
        "offset = 0\n",
        "cur_size = 0\n",
        "while(cur_size < 2500):\n",
        "    image = imageio.imread(imagelist[cur_size + offset])\n",
        "    if image.shape != (64,64):\n",
        "        offset += 1\n",
        "    else:\n",
        "        total_set.append(image.reshape(64, 64, 1))\n",
        "        total_file.append(imagelist[cur_size + offset])\n",
        "        cur_size += 1\n",
        "        \n",
        "        \n",
        "test_set = total_set[2000:2250]\n",
        "train_set = total_set[0:2000]\n",
        "valid_set = total_set[2250:2500]"
      ],
      "execution_count": 0,
      "outputs": []
    },
    {
      "metadata": {
        "id": "8pKEQk7v77th",
        "colab_type": "code",
        "colab": {}
      },
      "cell_type": "code",
      "source": [
        "with open('train.txt', 'w') as f:\n",
        "    for item in total_file[0:2000]:\n",
        "        f.write(\"%s\\n\" % item)\n",
        "        \n",
        "with open('test.txt', 'w') as f:\n",
        "    for item in total_file[2000:2250]:\n",
        "        f.write(\"%s\\n\" % item)\n",
        "        \n",
        "with open('valid_set.txt', 'w') as f:\n",
        "    for item in total_file[2250:2500]:\n",
        "        f.write(\"%s\\n\" % item)"
      ],
      "execution_count": 0,
      "outputs": []
    },
    {
      "metadata": {
        "id": "W18lowWedQ8M",
        "colab_type": "code",
        "colab": {}
      },
      "cell_type": "code",
      "source": [
        "with open('test.txt') as f:\n",
        "    test_set = f.read().splitlines()\n",
        "with open('train.txt') as f:\n",
        "    train_set = f.read().splitlines()\n",
        "with open('valid_set.txt') as f:\n",
        "    valid_set = f.read().splitlines()\n",
        "\n",
        "test_set = [imageio.imread(image_file).reshape(64, 64, 1) for image_file in test_set]\n",
        "train_set = [imageio.imread(image_file).reshape(64, 64, 1) for image_file in train_set]\n",
        "valid_set = [imageio.imread(image_file).reshape(64, 64, 1) for image_file in valid_set]\n",
        "\n"
      ],
      "execution_count": 0,
      "outputs": []
    },
    {
      "metadata": {
        "id": "Tfsebysbjmg1",
        "colab_type": "code",
        "colab": {}
      },
      "cell_type": "code",
      "source": [
        "for i in valid_set:\n",
        "    if (i.shape != (64, 64, 1)):\n",
        "        print(i.shape)\n"
      ],
      "execution_count": 0,
      "outputs": []
    },
    {
      "metadata": {
        "id": "y_fzIvpmjlun",
        "colab_type": "text"
      },
      "cell_type": "markdown",
      "source": [
        ""
      ]
    },
    {
      "metadata": {
        "id": "UF6NU31vBFca",
        "colab_type": "code",
        "colab": {}
      },
      "cell_type": "code",
      "source": [
        "def get_next_batch(iteration, batch_size):\n",
        "    if iteration == 0:\n",
        "        shuffle(train_set)\n",
        "    return train_set[batch_size*iteration : (iteration+1) * batch_size]\n",
        "\n",
        "def valid_get_next_batch(iteration, batch_size):\n",
        "    if iteration == 0:\n",
        "        shuffle(valid_set)\n",
        "    return valid_set[batch_size*iteration : (iteration+1) * batch_size]\n",
        "\n",
        "def test_get_next_batch(iteration, batch_size):\n",
        "    if iteration == 0:\n",
        "        shuffle(test_set)\n",
        "    return test_set[batch_size*iteration : (iteration+1) * batch_size]"
      ],
      "execution_count": 0,
      "outputs": []
    },
    {
      "metadata": {
        "id": "iFL_KYP2uUm9",
        "colab_type": "code",
        "colab": {}
      },
      "cell_type": "code",
      "source": [
        "w = 64\n",
        "h = 64\n",
        "input_dim = w * h"
      ],
      "execution_count": 0,
      "outputs": []
    },
    {
      "metadata": {
        "id": "endMZuGguVE0",
        "colab_type": "code",
        "colab": {}
      },
      "cell_type": "code",
      "source": [
        "class VariationalAutoEncoder(object): \n",
        "  \n",
        "    def __init__(self, learning_rate=0.001, batch_size=100, n_z =10): \n",
        "        \n",
        "        self.learning_rate = learning_rate\n",
        "        self.batch_size = batch_size\n",
        "        self.n_z = n_z # Latent vector dimensions\n",
        "        \n",
        "        self.build()       \n",
        "        self.sess = tf.InteractiveSession()\n",
        "        self.sess.run(tf.global_variables_initializer())\n",
        "#         self.sess = sess;\n",
        "        \n",
        "    \n",
        "    def build(self):\n",
        "        self.input = tf.placeholder(name='input', dtype=tf.float32, shape=[None, w, h, 1])\n",
        "        self.input_flat = tf.reshape(self.input, shape=[-1, w*h])\n",
        "\n",
        "        self.encoder()\n",
        "        self.decoder()\n",
        "        self.calculate_loss()\n",
        "\n",
        "        return \n",
        "    # Encoder convolution layers\n",
        "    def conv2_pool(self, input, filter_size):\n",
        "        conv1 = tf.layers.conv2d(inputs=input, filters=filter_size, kernel_size=(3,3), padding='same', activation=tf.nn.elu)        \n",
        "        conv1_2 = tf.layers.conv2d(inputs=conv1, filters=filter_size, kernel_size=(3,3), padding='same', activation=tf.nn.elu)\n",
        "        maxpool = tf.layers.max_pooling2d(conv1_2, pool_size=(2,2), strides=(2,2), padding='same')  \n",
        "        \n",
        "        return maxpool\n",
        "    \n",
        "    def conv3_pool(self, input, filter_size):\n",
        "        conv1 = tf.layers.conv2d(inputs=input, filters=filter_size, kernel_size=(3,3), padding='same', activation=tf.nn.elu)         \n",
        "        conv1_2 = tf.layers.conv2d(inputs=conv1, filters=filter_size, kernel_size=(3,3), padding='same', activation=tf.nn.elu)\n",
        "        conv1_3 = tf.layers.conv2d(inputs=conv1_2, filters=filter_size, kernel_size=(3,3), padding='same', activation=tf.nn.elu)\n",
        "        maxpool = tf.layers.max_pooling2d(conv1_3, pool_size=(2,2), strides=(2,2), padding='same')  \n",
        "        \n",
        "        return maxpool\n",
        "    \n",
        "    # Decoder convolution layers\n",
        "    def upsample_conv_2(self, input, filter_size, dim_size):\n",
        "        upsample1 = tf.image.resize_images(input, size=(dim_size, dim_size), method=tf.image.ResizeMethod.NEAREST_NEIGHBOR)          \n",
        "        conv1 = tf.layers.conv2d(inputs=upsample1, filters=filter_size, kernel_size=(3,3), padding='same', activation=tf.nn.elu)   \n",
        "        conv1_2 = tf.layers.conv2d(inputs=conv1, filters=filter_size, kernel_size=(3,3), padding='same', activation=tf.nn.elu)\n",
        "        \n",
        "        return conv1_2\n",
        "    \n",
        "    def upsample_conv_3(self, input, filter_size, dim_size):\n",
        "        upsample1 = tf.image.resize_images(input, size=(dim_size, dim_size), method=tf.image.ResizeMethod.NEAREST_NEIGHBOR)          \n",
        "        conv1 = tf.layers.conv2d(inputs=upsample1, filters=filter_size, kernel_size=(3,3), padding='same', activation=tf.nn.elu)   \n",
        "        conv1_2 = tf.layers.conv2d(inputs=conv1, filters=filter_size, kernel_size=(3,3), padding='same', activation=tf.nn.elu)\n",
        "        conv1_3 = tf.layers.conv2d(inputs=conv1_2, filters=filter_size, kernel_size=(3,3), padding='same', activation=tf.nn.elu)\n",
        "        \n",
        "        return conv1_3\n",
        "\n",
        "    \n",
        "    # Encode to latent vector\n",
        "    def encoder(self):\n",
        "        # Input dim = (None, 64, 64, 1)\n",
        "        enc_1 = self.conv3_pool(self.input, 32)       # Output dim = (32, 32, 32)\n",
        "        enc_2 = self.conv3_pool(enc_1, 16)            # Output dim = (16, 16, 16)\n",
        "        enc_3 = self.conv3_pool(enc_2, 8)           # Output dim = (8, 8, 8)\n",
        "        enc_4 = self.conv3_pool(enc_3, 4)           # Output dim = (4, 4, 4)\n",
        "\n",
        "        encoded = tf.contrib.layers.flatten(enc_4) \n",
        "         # ENCODES to latent vector\n",
        "        self.z_mu = tf.layers.dense(encoded, units=self.n_z)                            # mean\n",
        "        self.z_log_sigma_sq = 0.5 * tf.layers.dense(encoded, units=self.n_z)            # sigma\n",
        "        \n",
        "        epsilon = tf.random_normal(tf.stack([tf.shape(encoded)[0], self.n_z])) \n",
        "        self.z  = self.z_mu + tf.multiply(epsilon, tf.exp(self.z_log_sigma_sq))  \n",
        "        \n",
        "    def decoder(self):\n",
        "        # Input Dim: [16, 16, 64]\n",
        "#         dec_FC1 = tf.layers.dense(self.z, units=8*8*8, activation=tf.nn.elu)\n",
        "        decoded = tf.reshape(self.z, [self.batch_size, 4, 4, 2])                                                           \n",
        "       \n",
        "        dec_1 = self.upsample_conv_3(decoded, 16, dim_size=16)                            # 16*16*512\n",
        "        dec_2 = self.upsample_conv_3(dec_1, 8, dim_size = 32)                            # 32*32*256\n",
        "        dec_3 = self.upsample_conv_3(dec_2, 1, dim_size =64)                            # 64*64*128\n",
        "\n",
        "\n",
        "        self.x_hat_flat = tf.contrib.layers.flatten(dec_3)\n",
        "        self.x_hat = dec_3\n",
        "\n",
        "\n",
        "    def calculate_loss(self):\n",
        "        _recon_loss = tf.reduce_sum(tf.squared_difference(self.x_hat_flat, self.input_flat), 1)\n",
        "        self.recon_loss = tf.reduce_mean(_recon_loss)\n",
        "        _latent_loss = -0.5 * tf.reduce_sum(1.0 + 2.0 * self.z_log_sigma_sq - tf.square(self.z_mu) - tf.exp(2.0 * self.z_log_sigma_sq), 1)\n",
        "        self.latent_loss = tf.reduce_mean(_latent_loss)\n",
        "        \n",
        "        self.total_loss = tf.reduce_mean(_recon_loss + _latent_loss)\n",
        "        self.train_op = tf.train.AdamOptimizer().minimize(self.total_loss)\n",
        "    \n",
        "    def saver(self, path):\n",
        "        saver = tf.train.Saver()\n",
        "        save_path = saver.save(self.sess, path)\n",
        "        print(\"Model saved in path: %s\" % save_path)\n",
        "\n",
        "    \n",
        "    def load(self, path):\n",
        "        saver = tf.train.Saver()\n",
        "        saver.restore(self.sess, path)\n",
        "        print(\"Model loaded from: %s\" % path)\n",
        "    \n",
        "    def run_single_step(self, x):\n",
        "        _, loss, recon_loss, latent_loss = self.sess.run([self.train_op, self.total_loss, self.recon_loss, self.latent_loss], feed_dict={self.input:x})\n",
        "        return loss, recon_loss, latent_loss\n",
        "    \n",
        "    def reconstructor(self, x):\n",
        "        x_hat = self.sess.run(self.x_hat,feed_dict={self.input:x})\n",
        "        return x_hat\n",
        "    \n",
        "    def generator(self, z):\n",
        "        x_hat = self.sess.run(self.x_hat, feed_dict={self.z:z,  self.keep_prob: 1.0})\n",
        "        return x_hat\n",
        "    \n",
        "    def get_valid_loss(self, x):\n",
        "        loss = self.sess.run(self.total_loss,feed_dict={self.input:x})\n",
        "        return loss\n",
        "    \n",
        "    def transformer(self, x):\n",
        "        z = self.sess.run(self.z, feed_dict={self.x:x})\n",
        "        return z"
      ],
      "execution_count": 0,
      "outputs": []
    },
    {
      "metadata": {
        "id": "3jUeyfriuXWf",
        "colab_type": "code",
        "colab": {}
      },
      "cell_type": "code",
      "source": [
        "\n",
        "def trainer(path, pathdir, learning_rate=1e-3, batch_size=100, num_epoch=100, n_z=10):\n",
        "    loss_vals = []\n",
        "    valid_vals = []\n",
        "   \n",
        "    tf.reset_default_graph()\n",
        "    model = VariationalAutoEncoder(learning_rate=learning_rate, batch_size=batch_size, n_z=n_z)\n",
        "    for epoch in range(num_epoch):\n",
        "        for iter in range(2000 // batch_size):\n",
        "            batch = get_next_batch(iter, batch_size)\n",
        "            if batch is not None:\n",
        "                loss, recon_loss, latent_loss = model.run_single_step(batch)\n",
        "                loss_vals.append(loss)\n",
        "        \n",
        "        \n",
        "        for iter in range(250 // batch_size):\n",
        "            batch = valid_get_next_batch(iter, batch_size)\n",
        "            if batch is not None:\n",
        "                valid_loss = model.get_valid_loss(batch)\n",
        "                valid_vals.append(valid_loss)\n",
        "                \n",
        "        print('[Epoch {}] Loss: {}, Recon Loss: {}, Latent Loss: {}, Valid Loss: {}'.format(epoch, loss, recon_loss, latent_loss, valid_loss))\n",
        "    model.saver(path)\n",
        "    \n",
        "    print(\"Done!\")\n",
        "    return model, loss_vals, valid_vals"
      ],
      "execution_count": 0,
      "outputs": []
    },
    {
      "metadata": {
        "id": "1eH0Dbc8uYrV",
        "colab_type": "code",
        "colab": {}
      },
      "cell_type": "code",
      "source": [
        "model_name = \"z_10\"\n",
        "\n",
        "path = os.path.join(os.getcwd(), model_name, 'model.ckpt')\n",
        "pathdir = os.path.join(os.getcwd(), model_name)"
      ],
      "execution_count": 0,
      "outputs": []
    },
    {
      "metadata": {
        "id": "UY51U90Ca12j",
        "colab_type": "code",
        "colab": {}
      },
      "cell_type": "code",
      "source": [
        "mkdir z_10"
      ],
      "execution_count": 0,
      "outputs": []
    },
    {
      "metadata": {
        "id": "CrZ2D3l4uH4w",
        "colab_type": "code",
        "outputId": "348b8453-e05f-4134-a4ee-08252b615030",
        "colab": {
          "base_uri": "https://localhost:8080/",
          "height": 34
        }
      },
      "cell_type": "code",
      "source": [
        "ls"
      ],
      "execution_count": 0,
      "outputs": [
        {
          "output_type": "stream",
          "text": [
            "\u001b[0m\u001b[01;34mdrive\u001b[0m/  \u001b[01;34msample_data\u001b[0m/  test.txt  train.txt  valid_set.txt  \u001b[01;34mz_10\u001b[0m/\n"
          ],
          "name": "stdout"
        }
      ]
    },
    {
      "metadata": {
        "id": "lHvwVN6euZrJ",
        "colab_type": "code",
        "outputId": "a0bb3c11-4649-40dc-ee1f-daf5a37ccc9f",
        "colab": {
          "base_uri": "https://localhost:8080/",
          "height": 440
        }
      },
      "cell_type": "code",
      "source": [
        "# enc with 7 layers, starting from filter size of 64\n",
        "model, loss_vals, valid_vals = trainer(path, pathdir, learning_rate=1e-4, batch_size=32, num_epoch=20, n_z=32)\n",
        "\n",
        "with open('loss.txt', 'w') as f:\n",
        "    for item in loss_vals:\n",
        "        f.write(\"%s\\n\" % item)\n",
        "        \n",
        "with open('valid.txt', 'w') as f:\n",
        "    for item in valid_vals:\n",
        "        f.write(\"%s\\n\" % item)\n",
        "\n"
      ],
      "execution_count": 0,
      "outputs": [
        {
          "output_type": "stream",
          "text": [
            "/usr/local/lib/python3.6/dist-packages/tensorflow/python/client/session.py:1702: UserWarning: An interactive session is already active. This can cause out-of-memory errors in some cases. You must explicitly call `InteractiveSession.close()` to release resources held by the other session(s).\n",
            "  warnings.warn('An interactive session is already active. This can '\n"
          ],
          "name": "stderr"
        },
        {
          "output_type": "stream",
          "text": [
            "[Epoch 0] Loss: 92860784.0, Recon Loss: 92858432.0, Latent Loss: 2351.868408203125, Valid Loss: 85376920.0\n",
            "[Epoch 1] Loss: 23944902.0, Recon Loss: 23942606.0, Latent Loss: 2295.76513671875, Valid Loss: 23718204.0\n",
            "[Epoch 2] Loss: 20151166.0, Recon Loss: 20149846.0, Latent Loss: 1321.0078125, Valid Loss: 18884968.0\n",
            "[Epoch 3] Loss: 16167069.0, Recon Loss: 16166329.0, Latent Loss: 740.8018798828125, Valid Loss: 15863606.0\n",
            "[Epoch 4] Loss: 14427165.0, Recon Loss: 14426471.0, Latent Loss: 693.8629150390625, Valid Loss: 15422406.0\n",
            "[Epoch 5] Loss: 13199212.0, Recon Loss: 13198552.0, Latent Loss: 659.434326171875, Valid Loss: 13547662.0\n",
            "[Epoch 6] Loss: 12746687.0, Recon Loss: 12745836.0, Latent Loss: 851.4443359375, Valid Loss: 12788950.0\n",
            "[Epoch 7] Loss: 11357890.0, Recon Loss: 11356936.0, Latent Loss: 954.01513671875, Valid Loss: 11370184.0\n",
            "[Epoch 8] Loss: 10544764.0, Recon Loss: 10543725.0, Latent Loss: 1039.6295166015625, Valid Loss: 11595802.0\n",
            "[Epoch 9] Loss: 10504720.0, Recon Loss: 10503603.0, Latent Loss: 1116.294677734375, Valid Loss: 10321212.0\n",
            "[Epoch 10] Loss: 10224872.0, Recon Loss: 10223522.0, Latent Loss: 1350.35302734375, Valid Loss: 9624098.0\n",
            "[Epoch 11] Loss: 9089485.0, Recon Loss: 9088097.0, Latent Loss: 1387.936767578125, Valid Loss: 9901852.0\n",
            "[Epoch 12] Loss: 8743300.0, Recon Loss: 8741864.0, Latent Loss: 1435.220703125, Valid Loss: 9043078.0\n",
            "[Epoch 13] Loss: 8782587.0, Recon Loss: 8781003.0, Latent Loss: 1583.9300537109375, Valid Loss: 7879188.0\n",
            "[Epoch 14] Loss: 7857970.0, Recon Loss: 7856295.5, Latent Loss: 1674.010009765625, Valid Loss: 8367126.0\n",
            "[Epoch 15] Loss: 8005068.0, Recon Loss: 8003490.5, Latent Loss: 1577.848388671875, Valid Loss: 8332895.5\n",
            "[Epoch 16] Loss: 7786181.0, Recon Loss: 7784513.0, Latent Loss: 1667.76953125, Valid Loss: 8764861.0\n",
            "[Epoch 17] Loss: 7378894.0, Recon Loss: 7377157.0, Latent Loss: 1736.1810302734375, Valid Loss: 8439072.0\n",
            "[Epoch 18] Loss: 7824121.5, Recon Loss: 7822452.0, Latent Loss: 1669.593994140625, Valid Loss: 8010573.0\n",
            "[Epoch 19] Loss: 8159306.0, Recon Loss: 8157528.0, Latent Loss: 1778.2353515625, Valid Loss: 7427369.0\n",
            "Model saved in path: /content/z_10/model.ckpt\n",
            "Done!\n"
          ],
          "name": "stdout"
        }
      ]
    },
    {
      "metadata": {
        "id": "wERJ62QrWpMn",
        "colab_type": "code",
        "colab": {}
      },
      "cell_type": "code",
      "source": [
        "def load(path, learning_rate=1e-3, batch_size=100, num_epoch=100, n_z=10):\n",
        "    tf.reset_default_graph()\n",
        "    model = VariationalAutoEncoder(learning_rate=learning_rate, batch_size=batch_size, n_z=n_z)\n",
        "    model.load(path)\n",
        "    return model"
      ],
      "execution_count": 0,
      "outputs": []
    },
    {
      "metadata": {
        "id": "Z7pmapenWuQF",
        "colab_type": "code",
        "outputId": "d87d9c37-43a7-499b-e538-7782ecffdc12",
        "colab": {
          "base_uri": "https://localhost:8080/",
          "height": 104
        }
      },
      "cell_type": "code",
      "source": [
        "model = load(path, learning_rate=1e-4, batch_size=32, num_epoch=10, n_z=32)"
      ],
      "execution_count": 0,
      "outputs": [
        {
          "output_type": "stream",
          "text": [
            "/usr/local/lib/python3.6/dist-packages/tensorflow/python/client/session.py:1702: UserWarning: An interactive session is already active. This can cause out-of-memory errors in some cases. You must explicitly call `InteractiveSession.close()` to release resources held by the other session(s).\n",
            "  warnings.warn('An interactive session is already active. This can '\n"
          ],
          "name": "stderr"
        },
        {
          "output_type": "stream",
          "text": [
            "INFO:tensorflow:Restoring parameters from /content/z_10/model.ckpt\n",
            "Model loaded from: /content/z_10/model.ckpt\n"
          ],
          "name": "stdout"
        }
      ]
    },
    {
      "metadata": {
        "id": "5e7XYzaLW4pa",
        "colab_type": "code",
        "colab": {}
      },
      "cell_type": "code",
      "source": [
        "def cont_train(model, path, learning_rate=1e-3, batch_size=100, num_epoch=100, n_z=10):\n",
        "    \n",
        "    for epoch in range(num_epoch):\n",
        "        for iter in range(2000 // batch_size):\n",
        "            batch = get_next_batch(iter, batch_size)\n",
        "            if batch is not None:\n",
        "                loss, recon_loss, latent_loss = model.run_single_step(batch)\n",
        "                with open('loss.txt', 'a') as f:\n",
        "                    f.write(str(loss))\n",
        "                    f.write(\"\\n\")\n",
        "        \n",
        "        \n",
        "        for iter in range(250 // batch_size):\n",
        "            batch = valid_get_next_batch(iter, batch_size)\n",
        "            if batch is not None:\n",
        "                valid_loss = model.get_valid_loss(batch)\n",
        "                with open('valid.txt', 'a') as f:\n",
        "                    f.write(str(valid_loss))\n",
        "                    f.write(\"\\n\")\n",
        "                \n",
        "        print('[Epoch {}] Loss: {}, Recon Loss: {}, Latent Loss: {}, Valid Loss: {}'.format(epoch, loss, recon_loss, latent_loss, valid_loss))\n",
        "    model.saver(path)\n",
        "    \n",
        "    print(\"Done!\")\n",
        "    return model"
      ],
      "execution_count": 0,
      "outputs": []
    },
    {
      "metadata": {
        "id": "firAZPi4Xz-U",
        "colab_type": "code",
        "outputId": "5aa07425-7737-4725-8300-c60a98f68004",
        "colab": {
          "base_uri": "https://localhost:8080/",
          "height": 924
        }
      },
      "cell_type": "code",
      "source": [
        "cont_train(model, path, learning_rate=1e-4, batch_size=32, num_epoch=100, n_z=32)"
      ],
      "execution_count": 0,
      "outputs": [
        {
          "output_type": "stream",
          "text": [
            "[Epoch 0] Loss: 1515936.0, Recon Loss: 1514015.5, Latent Loss: 1920.48486328125, Valid Loss: 1731526.5\n",
            "[Epoch 1] Loss: 1540644.875, Recon Loss: 1538650.125, Latent Loss: 1994.7603759765625, Valid Loss: 1928161.375\n",
            "[Epoch 2] Loss: 1596968.75, Recon Loss: 1595133.25, Latent Loss: 1835.299560546875, Valid Loss: 1549326.375\n",
            "[Epoch 3] Loss: 1404385.0, Recon Loss: 1402454.5, Latent Loss: 1930.4915771484375, Valid Loss: 2008031.25\n",
            "[Epoch 4] Loss: 1485424.5, Recon Loss: 1483511.0, Latent Loss: 1913.656494140625, Valid Loss: 1784409.25\n",
            "[Epoch 5] Loss: 1593534.875, Recon Loss: 1591669.0, Latent Loss: 1866.1126708984375, Valid Loss: 1824322.125\n",
            "[Epoch 6] Loss: 1604837.5, Recon Loss: 1603046.125, Latent Loss: 1791.299560546875, Valid Loss: 1727164.0\n",
            "[Epoch 7] Loss: 1670780.0, Recon Loss: 1668878.75, Latent Loss: 1901.34716796875, Valid Loss: 1892188.625\n",
            "[Epoch 8] Loss: 1623171.875, Recon Loss: 1621355.875, Latent Loss: 1815.9169921875, Valid Loss: 1602640.5\n",
            "[Epoch 9] Loss: 1808748.5, Recon Loss: 1806877.5, Latent Loss: 1870.991455078125, Valid Loss: 1497983.25\n",
            "[Epoch 10] Loss: 1483739.5, Recon Loss: 1481895.25, Latent Loss: 1844.332275390625, Valid Loss: 2046006.5\n",
            "[Epoch 11] Loss: 1346610.25, Recon Loss: 1344617.75, Latent Loss: 1992.549560546875, Valid Loss: 1816261.125\n",
            "[Epoch 12] Loss: 1641003.625, Recon Loss: 1639163.75, Latent Loss: 1839.912841796875, Valid Loss: 1672748.5\n",
            "[Epoch 13] Loss: 1676873.125, Recon Loss: 1675037.125, Latent Loss: 1835.96533203125, Valid Loss: 2008429.375\n",
            "[Epoch 14] Loss: 1589536.25, Recon Loss: 1587652.75, Latent Loss: 1883.394775390625, Valid Loss: 1841421.25\n",
            "[Epoch 15] Loss: 1714608.0, Recon Loss: 1712709.25, Latent Loss: 1898.705322265625, Valid Loss: 1990280.5\n",
            "[Epoch 16] Loss: 1856007.625, Recon Loss: 1854151.5, Latent Loss: 1856.0460205078125, Valid Loss: 1640785.75\n",
            "[Epoch 17] Loss: 1434403.875, Recon Loss: 1432524.875, Latent Loss: 1879.0213623046875, Valid Loss: 1570470.375\n",
            "[Epoch 18] Loss: 1444113.75, Recon Loss: 1442172.0, Latent Loss: 1941.7296142578125, Valid Loss: 2032426.0\n",
            "[Epoch 19] Loss: 1523741.5, Recon Loss: 1521822.75, Latent Loss: 1918.8319091796875, Valid Loss: 1624029.75\n",
            "[Epoch 20] Loss: 1671720.625, Recon Loss: 1669839.125, Latent Loss: 1881.467529296875, Valid Loss: 1447407.5\n",
            "[Epoch 21] Loss: 1671767.0, Recon Loss: 1670016.75, Latent Loss: 1750.22998046875, Valid Loss: 1782595.5\n",
            "[Epoch 22] Loss: 1771179.625, Recon Loss: 1769262.5, Latent Loss: 1917.0985107421875, Valid Loss: 1738600.125\n",
            "[Epoch 23] Loss: 1622609.5, Recon Loss: 1620724.5, Latent Loss: 1884.9814453125, Valid Loss: 1769098.75\n",
            "[Epoch 24] Loss: 1669972.0, Recon Loss: 1668104.5, Latent Loss: 1867.4876708984375, Valid Loss: 1805645.375\n",
            "[Epoch 25] Loss: 1809392.75, Recon Loss: 1807608.125, Latent Loss: 1784.7528076171875, Valid Loss: 1776545.5\n",
            "[Epoch 26] Loss: 1643704.25, Recon Loss: 1641804.375, Latent Loss: 1899.9410400390625, Valid Loss: 1717201.0\n",
            "[Epoch 27] Loss: 1677625.5, Recon Loss: 1675843.625, Latent Loss: 1781.887939453125, Valid Loss: 1568438.625\n",
            "[Epoch 28] Loss: 1610062.375, Recon Loss: 1608382.75, Latent Loss: 1679.5843505859375, Valid Loss: 1590987.75\n",
            "[Epoch 29] Loss: 1576647.625, Recon Loss: 1574840.5, Latent Loss: 1807.1900634765625, Valid Loss: 1883713.75\n",
            "[Epoch 30] Loss: 1758546.75, Recon Loss: 1756644.25, Latent Loss: 1902.5625, Valid Loss: 1936613.875\n",
            "[Epoch 31] Loss: 1744700.125, Recon Loss: 1742923.875, Latent Loss: 1776.26953125, Valid Loss: 1889210.875\n",
            "[Epoch 32] Loss: 1719992.25, Recon Loss: 1718166.0, Latent Loss: 1826.154296875, Valid Loss: 1945394.75\n",
            "[Epoch 33] Loss: 1362131.875, Recon Loss: 1360299.75, Latent Loss: 1832.08154296875, Valid Loss: 1462540.25\n",
            "[Epoch 34] Loss: 1553181.5, Recon Loss: 1551395.0, Latent Loss: 1786.5704345703125, Valid Loss: 1639274.75\n",
            "[Epoch 35] Loss: 1464929.125, Recon Loss: 1463102.875, Latent Loss: 1826.273681640625, Valid Loss: 1685522.25\n",
            "[Epoch 36] Loss: 1824746.0, Recon Loss: 1822937.75, Latent Loss: 1808.247802734375, Valid Loss: 1795840.125\n",
            "[Epoch 37] Loss: 1558366.0, Recon Loss: 1556585.625, Latent Loss: 1780.506591796875, Valid Loss: 1549775.25\n",
            "[Epoch 38] Loss: 1494707.5, Recon Loss: 1492943.0, Latent Loss: 1764.3494873046875, Valid Loss: 1850837.5\n",
            "[Epoch 39] Loss: 1465966.5, Recon Loss: 1464048.5, Latent Loss: 1917.916259765625, Valid Loss: 1771445.375\n",
            "[Epoch 40] Loss: 1511927.75, Recon Loss: 1510088.5, Latent Loss: 1839.445068359375, Valid Loss: 1986120.25\n",
            "[Epoch 41] Loss: 1501579.75, Recon Loss: 1499643.125, Latent Loss: 1936.6279296875, Valid Loss: 1712311.875\n",
            "[Epoch 42] Loss: 1608702.5, Recon Loss: 1606937.375, Latent Loss: 1765.174560546875, Valid Loss: 1648837.5\n",
            "[Epoch 43] Loss: 1492195.5, Recon Loss: 1490323.75, Latent Loss: 1871.6727294921875, Valid Loss: 1831910.875\n",
            "[Epoch 44] Loss: 1774845.25, Recon Loss: 1772992.0, Latent Loss: 1853.299072265625, Valid Loss: 1763231.25\n",
            "[Epoch 45] Loss: 1757601.0, Recon Loss: 1755654.75, Latent Loss: 1946.3416748046875, Valid Loss: 1802173.5\n",
            "[Epoch 46] Loss: 1939856.0, Recon Loss: 1938043.25, Latent Loss: 1812.74267578125, Valid Loss: 2041426.5\n",
            "[Epoch 47] Loss: 1579914.75, Recon Loss: 1578151.5, Latent Loss: 1763.154296875, Valid Loss: 1469946.75\n",
            "[Epoch 48] Loss: 1636764.875, Recon Loss: 1634891.25, Latent Loss: 1873.556640625, Valid Loss: 2108423.5\n",
            "[Epoch 49] Loss: 1659499.75, Recon Loss: 1657814.25, Latent Loss: 1685.4515380859375, Valid Loss: 1758167.0\n",
            "[Epoch 50] Loss: 1591458.0, Recon Loss: 1589606.25, Latent Loss: 1851.7071533203125, Valid Loss: 1437904.375\n",
            "[Epoch 51] Loss: 1463122.25, Recon Loss: 1461242.0, Latent Loss: 1880.1695556640625, Valid Loss: 1506211.5\n",
            "[Epoch 52] Loss: 1708271.5, Recon Loss: 1706571.625, Latent Loss: 1699.8172607421875, Valid Loss: 1588333.375\n",
            "[Epoch 53] Loss: 1633670.375, Recon Loss: 1631901.25, Latent Loss: 1768.98193359375, Valid Loss: 2207308.0\n"
          ],
          "name": "stdout"
        }
      ]
    },
    {
      "metadata": {
        "id": "9lsF84R_ZTIy",
        "colab_type": "code",
        "colab": {}
      },
      "cell_type": "code",
      "source": [
        "from google.colab import files\n",
        "files.download('loss.txt') \n",
        "files.download('valid.txt')\n",
        "files.download('z_10/model.ckpt.data-00000-of-00001') \n",
        "files.download('z_10/model.ckpt.index') \n",
        "files.download('z_10/model.ckpt.meta') \n",
        "files.download('z_10/checkpoint') \n",
        "# files.download('test.txt')\n",
        "# files.download('train.txt')\n",
        "# files.download('valid_set.txt')"
      ],
      "execution_count": 0,
      "outputs": []
    },
    {
      "metadata": {
        "id": "2gvaI82b_n38",
        "colab_type": "code",
        "outputId": "1cadacfb-dd06-44ce-a6bb-2d6b4d79ad62",
        "colab": {
          "base_uri": "https://localhost:8080/",
          "height": 679
        }
      },
      "cell_type": "code",
      "source": [
        "with open('loss.txt') as f:\n",
        "    loss = f.read().splitlines()\n",
        "with open('valid.txt') as f:\n",
        "    valid_loss = f.read().splitlines()\n",
        "\n",
        "loss = [float(loss_val) for loss_val in loss]\n",
        "valid_loss = [float(valid_val) for valid_val in valid_loss]\n",
        "\n",
        "# impactData = [loss, valid_loss]\n",
        "# for impacts in impactData:\n",
        "#     timefilteredForce = plt.plt(impacts)\n",
        "#     timefilteredForce = plt.xlabel('points')\n",
        "#     timefilteredForce = plt.ylabel('Force')\n",
        "plt.semilogy(loss)\n",
        "plt.show()\n",
        "\n",
        "plt.semilogy(valid_loss)\n",
        "plt.show()"
      ],
      "execution_count": 0,
      "outputs": [
        {
          "output_type": "display_data",
          "data": {
            "image/png": "[encoded data removed]",
            "text/plain": [
              "<matplotlib.figure.Figure at 0x7f98da8788d0>"
            ]
          },
          "metadata": {
            "tags": []
          }
        },
        {
          "output_type": "display_data",
          "data": {
            "image/png": "[encoded data removed]",
            "text/plain": [
              "<matplotlib.figure.Figure at 0x7f98d98861d0>"
            ]
          },
          "metadata": {
            "tags": []
          }
        }
      ]
    },
    {
      "metadata": {
        "id": "XcnaTWx_ux22",
        "colab_type": "code",
        "colab": {}
      },
      "cell_type": "code",
      "source": [
        "from skimage.measure import compare_ssim as ssim\n",
        "\n",
        "def calc_ssim(img1, img2):\n",
        "    \n",
        "\n",
        "    img1 = img1.astype(np.float32).reshape(64, 64)\n",
        "    img2 = img2.astype(np.float32).reshape(64, 64)\n",
        "    \n",
        "    \n",
        "    return np.sum(np.power(img1-img2,2))/4096\n",
        "\n",
        "# Test Reconstruction\n",
        "from scipy import ndimage\n",
        "\n",
        "def create_noise(mean=0, sd=1, dim=(64,64,1), scale=0.3):\n",
        "    return scale*255*np.random.normal(mean, sd, dim)"
      ],
      "execution_count": 0,
      "outputs": []
    },
    {
      "metadata": {
        "id": "GMGU5C4WSLoW",
        "colab_type": "code",
        "outputId": "b4686f37-2377-4a18-a724-8f796749f08a",
        "colab": {
          "base_uri": "https://localhost:8080/",
          "height": 274
        }
      },
      "cell_type": "code",
      "source": [
        "batch_norm = test_get_next_batch(0, 32)\n",
        "batch_noise = [(image + create_noise()) for image in batch_norm]\n",
        "batch_median = [ndimage.median_filter(noise, 3) for noise in batch_noise]\n",
        "batch_recon = model.reconstructor(batch_noise)\n",
        "\n",
        "n = np.sqrt(model.batch_size).astype(np.int32)\n",
        "print(batch_norm[0].dtype)\n",
        "\n",
        "I_reconstructed = np.empty((h*n, 3*w*n))\n",
        "\n",
        "\n",
        "# for i in range(n):\n",
        "#     for j in range(n):\n",
        "#         x = np.concatenate((x_reconstructed.reshape(h, w), batch[0].reshape(h, w)), axis = 1)\n",
        "#         I_reconstructed[i*h:(i+1)*h, j*2*w:(j+1)*2*w] = x # : in list defines range\n",
        "\n",
        "I_reconstructed = np.concatenate((batch_norm[0], batch_noise[0], batch_recon[0], batch_median[0]), axis = 1).reshape(64, 256)\n",
        "\n",
        "plt.figure(figsize=(10, 20))\n",
        "plt.axis('off')\n",
        "plt.imshow(I_reconstructed, cmap='gray')\n",
        "# plt.savefig(os.path.join(pathdir, 'reconstructed.png'))\n",
        "\n",
        "print(\"SSIM - WithItself: \", calc_ssim(batch_norm[0], batch_norm[0]))\n",
        "print(\"SSIM - Noise: \", calc_ssim(batch_norm[0], batch_noise[0]))\n",
        "print(\"SSIM - CNN-AE: \", calc_ssim(batch_norm[0], batch_recon[0]))\n",
        "print(\"SSIM - Median: \", calc_ssim(batch_norm[0], batch_median[0]))"
      ],
      "execution_count": 0,
      "outputs": [
        {
          "output_type": "stream",
          "text": [
            "uint8\n",
            "SSIM - WithItself:  1.0\n",
            "SSIM - Noise:  0.09558366476019825\n",
            "SSIM - CNN-AE:  0.4863743354834181\n",
            "SSIM - Median:  0.28360144426836476\n"
          ],
          "name": "stdout"
        },
        {
          "output_type": "display_data",
          "data": {
            "image/png": "[encoded data removed]",
            "text/plain": [
              "<matplotlib.figure.Figure at 0x7f98d9a56e80>"
            ]
          },
          "metadata": {
            "tags": []
          }
        }
      ]
    },
    {
      "metadata": {
        "id": "KZZ0eFT_GLt7",
        "colab_type": "code",
        "outputId": "8374b77a-8514-41d1-f473-8a088cc72f36",
        "colab": {
          "base_uri": "https://localhost:8080/",
          "height": 67
        }
      },
      "cell_type": "code",
      "source": [
        "counter = 0\n",
        "total_noise = 0\n",
        "total_recon = 0\n",
        "total_median = 0\n",
        "for i in range(250//32):\n",
        "    \n",
        "    batch_norm = test_get_next_batch(0, 32)\n",
        "    batch_noise = [(image + create_noise(mean=0, sd=1, dim=(64,64,1), scale=0.0)) for image in batch_norm]\n",
        "    batch_median = [ndimage.median_filter(noise, 3) for noise in batch_noise]\n",
        "    batch_recon = model.reconstructor(batch_noise)\n",
        "\n",
        "    n = np.sqrt(model.batch_size).astype(np.int32)\n",
        "\n",
        "\n",
        "    I_reconstructed = np.empty((h*n, 3*w*n))\n",
        "\n",
        "\n",
        "    # for i in range(n):\n",
        "    #     for j in range(n):\n",
        "    #         x = np.concatenate((x_reconstructed.reshape(h, w), batch[0].reshape(h, w)), axis = 1)\n",
        "    #         I_reconstructed[i*h:(i+1)*h, j*2*w:(j+1)*2*w] = x # : in list defines range\n",
        "\n",
        "    I_reconstructed = np.concatenate((batch_norm[0], batch_noise[0], batch_recon[0], batch_median[0]), axis = 1).reshape(64, 256)\n",
        "\n",
        "#     plt.figure(figsize=(10, 20))\n",
        "#     plt.axis('off')\n",
        "#     plt.imshow(I_reconstructed, cmap='gray')\n",
        "    # plt.savefig(os.path.join(pathdir, 'reconstructed.png'))\n",
        "    for i in range(32):\n",
        "        counter+=1\n",
        "        total_noise += calc_ssim(batch_norm[i], batch_noise[i])\n",
        "        total_recon += calc_ssim(batch_norm[i], batch_recon[i])\n",
        "        total_median += calc_ssim(batch_norm[i], batch_median[i])\n",
        "#     print(\"SSIM - WithItself: \", calc_ssim(batch_norm[0], batch_norm[0]))\n",
        "#     print(\"SSIM - Noise: \", calc_ssim(batch_norm[0], batch_noise[0]))\n",
        "#     print(\"SSIM - CNN-AE: \", calc_ssim(batch_norm[0], batch_recon[0]))\n",
        "#     print(\"SSIM - Median: \", calc_ssim(batch_norm[0], batch_median[0]))\n",
        "\n",
        "print(\"noise: \", total_noise/counter)\n",
        "print(\"VAE: \", total_recon/counter)\n",
        "print(\"Median\", total_median/counter)"
      ],
      "execution_count": 0,
      "outputs": [
        {
          "output_type": "stream",
          "text": [
            "noise:  0.0\n",
            "VAE:  429.8906128065927\n",
            "Median 29.964878627232142\n"
          ],
          "name": "stdout"
        }
      ]
    },
    {
      "metadata": {
        "id": "D5-Ei6NThNsk",
        "colab_type": "code",
        "outputId": "5aadfb3b-20b7-4f0f-b426-25d586411473",
        "colab": {
          "base_uri": "https://localhost:8080/",
          "height": 323
        }
      },
      "cell_type": "code",
      "source": [
        "from skimage.measure import compare_ssim as ssim\n",
        "\n",
        "x = np.array([[1000000,3],[1,0]])\n",
        "y = np.array([[0,3],[1,0]])\n",
        "print(ssim(x, y))\n"
      ],
      "execution_count": 0,
      "outputs": [
        {
          "output_type": "error",
          "ename": "ValueError",
          "evalue": "ignored",
          "traceback": [
            "\u001b[0;31m---------------------------------------------------------------------------\u001b[0m",
            "\u001b[0;31mValueError\u001b[0m                                Traceback (most recent call last)",
            "\u001b[0;32m<ipython-input-54-7b21ad1d2176>\u001b[0m in \u001b[0;36m<module>\u001b[0;34m()\u001b[0m\n\u001b[1;32m      3\u001b[0m \u001b[0mx\u001b[0m \u001b[0;34m=\u001b[0m \u001b[0mnp\u001b[0m\u001b[0;34m.\u001b[0m\u001b[0marray\u001b[0m\u001b[0;34m(\u001b[0m\u001b[0;34m[\u001b[0m\u001b[0;34m[\u001b[0m\u001b[0;36m1000000\u001b[0m\u001b[0;34m,\u001b[0m\u001b[0;36m3\u001b[0m\u001b[0;34m]\u001b[0m\u001b[0;34m,\u001b[0m\u001b[0;34m[\u001b[0m\u001b[0;36m1\u001b[0m\u001b[0;34m,\u001b[0m\u001b[0;36m0\u001b[0m\u001b[0;34m]\u001b[0m\u001b[0;34m]\u001b[0m\u001b[0;34m)\u001b[0m\u001b[0;34m\u001b[0m\u001b[0;34m\u001b[0m\u001b[0m\n\u001b[1;32m      4\u001b[0m \u001b[0my\u001b[0m \u001b[0;34m=\u001b[0m \u001b[0mnp\u001b[0m\u001b[0;34m.\u001b[0m\u001b[0marray\u001b[0m\u001b[0;34m(\u001b[0m\u001b[0;34m[\u001b[0m\u001b[0;34m[\u001b[0m\u001b[0;36m0\u001b[0m\u001b[0;34m,\u001b[0m\u001b[0;36m3\u001b[0m\u001b[0;34m]\u001b[0m\u001b[0;34m,\u001b[0m\u001b[0;34m[\u001b[0m\u001b[0;36m1\u001b[0m\u001b[0;34m,\u001b[0m\u001b[0;36m0\u001b[0m\u001b[0;34m]\u001b[0m\u001b[0;34m]\u001b[0m\u001b[0;34m)\u001b[0m\u001b[0;34m\u001b[0m\u001b[0;34m\u001b[0m\u001b[0m\n\u001b[0;32m----> 5\u001b[0;31m \u001b[0mprint\u001b[0m\u001b[0;34m(\u001b[0m\u001b[0mssim\u001b[0m\u001b[0;34m(\u001b[0m\u001b[0mx\u001b[0m\u001b[0;34m,\u001b[0m \u001b[0my\u001b[0m\u001b[0;34m)\u001b[0m\u001b[0;34m)\u001b[0m\u001b[0;34m\u001b[0m\u001b[0;34m\u001b[0m\u001b[0m\n\u001b[0m",
            "\u001b[0;32m/usr/local/lib/python3.6/dist-packages/skimage/measure/_structural_similarity.py\u001b[0m in \u001b[0;36mcompare_ssim\u001b[0;34m(X, Y, win_size, gradient, data_range, multichannel, gaussian_weights, full, dynamic_range, **kwargs)\u001b[0m\n\u001b[1;32m    149\u001b[0m     \u001b[0;32mif\u001b[0m \u001b[0mnp\u001b[0m\u001b[0;34m.\u001b[0m\u001b[0many\u001b[0m\u001b[0;34m(\u001b[0m\u001b[0;34m(\u001b[0m\u001b[0mnp\u001b[0m\u001b[0;34m.\u001b[0m\u001b[0masarray\u001b[0m\u001b[0;34m(\u001b[0m\u001b[0mX\u001b[0m\u001b[0;34m.\u001b[0m\u001b[0mshape\u001b[0m\u001b[0;34m)\u001b[0m \u001b[0;34m-\u001b[0m \u001b[0mwin_size\u001b[0m\u001b[0;34m)\u001b[0m \u001b[0;34m<\u001b[0m \u001b[0;36m0\u001b[0m\u001b[0;34m)\u001b[0m\u001b[0;34m:\u001b[0m\u001b[0;34m\u001b[0m\u001b[0;34m\u001b[0m\u001b[0m\n\u001b[1;32m    150\u001b[0m         raise ValueError(\n\u001b[0;32m--> 151\u001b[0;31m             \u001b[0;34m\"win_size exceeds image extent.  If the input is a multichannel \"\u001b[0m\u001b[0;34m\u001b[0m\u001b[0;34m\u001b[0m\u001b[0m\n\u001b[0m\u001b[1;32m    152\u001b[0m             \"(color) image, set multichannel=True.\")\n\u001b[1;32m    153\u001b[0m \u001b[0;34m\u001b[0m\u001b[0m\n",
            "\u001b[0;31mValueError\u001b[0m: win_size exceeds image extent.  If the input is a multichannel (color) image, set multichannel=True."
          ]
        }
      ]
    },
    {
      "metadata": {
        "id": "N4I2bRFCRou_",
        "colab_type": "code",
        "outputId": "d6d25247-ae84-49a8-846f-241212514077",
        "colab": {
          "base_uri": "https://localhost:8080/",
          "height": 67
        }
      },
      "cell_type": "code",
      "source": [
        "\n"
      ],
      "execution_count": 0,
      "outputs": [
        {
          "output_type": "stream",
          "text": [
            "253.88104 -0.99999994\n",
            "229.0 18.0\n",
            "0.5644660131806787\n"
          ],
          "name": "stdout"
        }
      ]
    },
    {
      "metadata": {
        "id": "eLuw7NsWTnUJ",
        "colab_type": "code",
        "colab": {}
      },
      "cell_type": "code",
      "source": [
        ""
      ],
      "execution_count": 0,
      "outputs": []
    },
    {
      "metadata": {
        "id": "ZwltQZD1PVjM",
        "colab_type": "code",
        "colab": {}
      },
      "cell_type": "code",
      "source": [
        "def convert_to_64(oldimagelist):\n",
        "    from PIL import Image\n",
        "    oldimagelist = [image_path for image_path in glob.glob(\"/content/drive/My Drive/ResearchDatav2/*.png\")]\n",
        "    correct = (64,64)\n",
        "    progress = 0\n",
        "    for images in oldimagelist:\n",
        "        progress+=1\n",
        "        img = Image.open(images) # image extension *.png,*.jpg\n",
        "    \n",
        "        if (np.array(img).shape != correct):\n",
        "            new_width  = 64\n",
        "            new_height = 64\n",
        "            img = img.resize((new_width, new_height), Image.ANTIALIAS)\n",
        "\n",
        "            img.save(images)\n",
        "        if (progress % 10 == 0):\n",
        "            print(progress)\n"
      ],
      "execution_count": 0,
      "outputs": []
    }
  ]
}